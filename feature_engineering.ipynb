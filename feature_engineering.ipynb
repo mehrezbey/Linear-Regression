{
 "cells": [
  {
   "cell_type": "markdown",
   "id": "02b4f4fb-a9fa-4806-882d-fad50bc257ba",
   "metadata": {},
   "source": [
    "# Feature Engineering "
   ]
  },
  {
   "cell_type": "markdown",
   "id": "1288680a-f7d0-4964-b7c0-10f341f24635",
   "metadata": {},
   "source": [
    "## Goals\n",
    "- We will explore feature engineering and polynomial regression to modelise complex functions."
   ]
  },
  {
   "cell_type": "code",
   "execution_count": 1,
   "id": "d7a153b6-8d74-4ea3-9c77-0da7c06215f1",
   "metadata": {},
   "outputs": [],
   "source": [
    "import numpy as np\n",
    "import matplotlib.pyplot as plt\n",
    "import copy,math\n",
    "np.set_printoptions(precision=4)  # reduced display precision on numpy arrays"
   ]
  },
  {
   "cell_type": "code",
   "execution_count": 2,
   "id": "3a1957f4-3ef8-4445-84cc-5e3824fad1fb",
   "metadata": {},
   "outputs": [],
   "source": [
    "x = np.arange(0,20,1)\n",
    "y = np.cos(x/2)"
   ]
  },
  {
   "cell_type": "code",
   "execution_count": 3,
   "id": "904dd160-faea-4001-9918-e08ed8e09a26",
   "metadata": {},
   "outputs": [],
   "source": [
    "# feature engineering ( insted of working with x, we will work with x**i)\n",
    "X = np.c_[x, x**2, x**3,x**4, x**5, x**6, x**7, x**8, x**9, x**10, x**11, x**12, x**13]"
   ]
  },
  {
   "cell_type": "code",
   "execution_count": 4,
   "id": "7e2625d8-a84f-4b17-898a-4acf9683e214",
   "metadata": {},
   "outputs": [],
   "source": [
    "def zscore_normalize_features(X):\n",
    "    \"\"\"\n",
    "    computes  X, zcore normalized by column\n",
    "    \n",
    "    Args:\n",
    "    \n",
    "    X (ndarray (m,n))     : input data, m examples, n features\n",
    "    \n",
    "    Returns:\n",
    "    X_norm (ndarray (m,n)): input normalized by column\n",
    "    mu (ndarray (n,))     : mean of each feature\n",
    "    sigma (ndarray (n,))  : standard deviation of each feature\n",
    "    \"\"\"\n",
    "    mu = np.mean(X, axis =0)\n",
    "    sigma = np.std(X, axis=0)\n",
    "    X_norm = (X - mu ) / sigma\n",
    "    return X_norm, mu, sigma"
   ]
  },
  {
   "cell_type": "code",
   "execution_count": 5,
   "id": "8874b781-94c3-4def-b3f7-8ad318450c83",
   "metadata": {},
   "outputs": [],
   "source": [
    "X_norm, X_mu, X_sigma = zscore_normalize_features(X)"
   ]
  },
  {
   "cell_type": "code",
   "execution_count": 6,
   "id": "8086b7ca-6a85-48dd-95ab-586ba2c45591",
   "metadata": {},
   "outputs": [],
   "source": [
    "def compute_cost(X, y, w, b):\n",
    "    \"\"\"\n",
    "    Computes the cost function for multiple linear regression\n",
    "    \n",
    "    Args:\n",
    "        x (ndarray (m,n)) : features\n",
    "        y (ndarray (m,)) : targets\n",
    "        w (ndarray (n,)) : model parameters( weights )\n",
    "        b (scalar)       : model parameter( bias )\n",
    "        \n",
    "    returns : \n",
    "        cost (float ) : the cost for the current model\n",
    "    \"\"\"\n",
    "    m = X.shape[0]\n",
    "    j_wb = 0\n",
    "    for i in range(m):\n",
    "        j_wb += ((np.dot(w,X[i])+b) - y[i])**2\n",
    "    j_wb/=2*m\n",
    "    return j_wb"
   ]
  },
  {
   "cell_type": "code",
   "execution_count": 7,
   "id": "e5dedbed-c53a-435b-8371-5e4e5b4dc687",
   "metadata": {},
   "outputs": [],
   "source": [
    "def compute_gradient(X, y, w, b): \n",
    "    \"\"\"\n",
    "    Computes the gradient for multiple linear regression \n",
    "    \n",
    "    Args:\n",
    "      X (ndarray (m,n)): Data, m examples with n features\n",
    "      y (ndarray (m,)) : target values\n",
    "      w (ndarray (n,)) : model parameters  \n",
    "      b (scalar)       : model parameter\n",
    "      \n",
    "    Returns:\n",
    "      dj_dw (ndarray (n,)): the gradient of the cost according to w.\n",
    "      dj_db (scalar):       the gradient of the cost according to b.\n",
    "    \"\"\"\n",
    "    m = X.shape[0]\n",
    "    n = X.shape[1]\n",
    "    dj_dw = np.zeros((n,))\n",
    "    dj_db = 0\n",
    "    for i in range(m):\n",
    "        error = (np.dot(w,X[i]) + b) - y[i] \n",
    "        for j in range(n):\n",
    "            dj_dw[j] += np.clip(error * X[i][j], -1e10, 1e10)\n",
    "\n",
    "        dj_db += np.clip(error, -1e10, 1e10)\n",
    "    dj_dw /=m\n",
    "    dj_db /=m\n",
    "    return dj_dw,dj_db"
   ]
  },
  {
   "cell_type": "code",
   "execution_count": 8,
   "id": "948c4fe6-c03d-4edb-bac7-61345f15b221",
   "metadata": {},
   "outputs": [],
   "source": [
    "def gradient_descent(X, y, w_in, b_in, alpha, num_iters, cost_function, gradient_function):\n",
    "    \"\"\"\n",
    "    Performs gradient descent to fit w,b. Updates w,b by taking num_iters gradient steps with learning rate alpha\n",
    "    \n",
    "    Args:\n",
    "        X (ndarray (m,n))   : features\n",
    "        y (ndarray (m,))    : targets\n",
    "        w_in (ndarray (n,)) : initial model parameters  \n",
    "        b_in (scalar)       : initial model parameter\n",
    "        alpha (float)       : Learning rate ( between 0 and 1 )\n",
    "        num_iters (int)     : number of iterations to run gradient descent\n",
    "        cost_function       : function to call to produce cost\n",
    "        gradient_function   : function to call to produce gradient\n",
    "      \n",
    "    Returns:\n",
    "        w (ndarray (n,))   : Updated values of parameters \n",
    "        b (scalar)         : Updated value of parameter \n",
    "        history (List)     : History of cost values\n",
    "      \"\"\"\n",
    "    \n",
    "    # An array to store cost J and w's at each iteration \n",
    "    m,n = X.shape\n",
    "    cost_history = []\n",
    "    w_history =np.zeros((num_iters,n))\n",
    "    w = copy.deepcopy(w_in)  #avoid modifying global w within function\n",
    "    b = b_in\n",
    "    for i in range(num_iters) :\n",
    "        dj_w, dj_b = gradient_function(X, y, w, b)\n",
    "        \n",
    "        # update the parameters\n",
    "        w = w - alpha*dj_w\n",
    "        b = b - alpha*dj_b\n",
    "    \n",
    "        # Save the cost and the new values of the parameters\n",
    "        if(i<100000):\n",
    "            cost_history.append(cost_function(X, y, w, b))\n",
    "            w_history[i] = np.array(w)\n",
    "            \n",
    "        if i% math.ceil(num_iters / 10) == 0:\n",
    "            print(f\"Iteration {i:4d}: Cost {cost_history[-1]:8.4f}\")\n",
    "    return w, b, cost_history, w_history"
   ]
  },
  {
   "cell_type": "code",
   "execution_count": 9,
   "id": "1bd88729-9089-4710-9958-95c082815826",
   "metadata": {},
   "outputs": [
    {
     "name": "stdout",
     "output_type": "stream",
     "text": [
      "Iteration    0: Cost   0.2326\n",
      "Iteration 50000: Cost   0.0282\n",
      "Iteration 100000: Cost   0.0248\n",
      "Iteration 150000: Cost   0.0248\n",
      "Iteration 200000: Cost   0.0248\n",
      "Iteration 250000: Cost   0.0248\n",
      "Iteration 300000: Cost   0.0248\n",
      "Iteration 350000: Cost   0.0248\n",
      "Iteration 400000: Cost   0.0248\n",
      "Iteration 450000: Cost   0.0248\n",
      "b,w found by gradient descent: -0.01,[-3.2199e+00 -6.2843e-01  1.5862e+01 -2.0009e+00 -1.4401e+01 -8.8659e+00\n",
      "  1.2885e+01  4.9816e-02  1.0783e-03  3.3863e-02  5.5064e-02 -4.9728e-02\n",
      "  5.8510e-02] \n"
     ]
    }
   ],
   "source": [
    "# initialize parameters\n",
    "initial_w = np.zeros(X.shape[1])\n",
    "initial_b = 0\n",
    "# some gradient descent settings\n",
    "iterations = 500000\n",
    "alpha = 7e-2\n",
    "# run gradient descent \n",
    "w_final, b_final, cost_hist, w_history = gradient_descent(X_norm, y, initial_w, initial_b,\n",
    "                                               alpha, iterations, compute_cost, compute_gradient, )\n",
    "print(f\"b,w found by gradient descent: {b_final:0.2f},{w_final} \")"
   ]
  },
  {
   "cell_type": "code",
   "execution_count": 10,
   "id": "b193be84-078b-4fb3-83b9-0f1d869b16f3",
   "metadata": {},
   "outputs": [
    {
     "data": {
      "image/png": "[encoded data removed]",
      "text/plain": [
       "<Figure size 640x480 with 1 Axes>"
      ]
     },
     "metadata": {},
     "output_type": "display_data"
    }
   ],
   "source": [
    "plt.scatter(x, y, marker='x', c='r', label=\"Actual Value\")\n",
    "plt.title(\"Normalized feature\")\n",
    "plt.plot(x,np.dot(X_norm,w_final)+b_final, label=\"Predicted Value\");\n",
    "plt.xlabel(\"x\")\n",
    "plt.ylabel(\"y\")\n",
    "plt.legend()\n",
    "plt.show()\n"
   ]
  },
  {
   "cell_type": "code",
   "execution_count": null,
   "id": "5af8732e-6dec-4bbc-81da-0afbd9541f00",
   "metadata": {},
   "outputs": [],
   "source": []
  }
 ],
 "metadata": {
  "kernelspec": {
   "display_name": "Python 3 (ipykernel)",
   "language": "python",
   "name": "python3"
  },
  "language_info": {
   "codemirror_mode": {
    "name": "ipython",
    "version": 3
   },
   "file_extension": ".py",
   "mimetype": "text/x-python",
   "name": "python",
   "nbconvert_exporter": "python",
   "pygments_lexer": "ipython3",
   "version": "3.9.1"
  }
 },
 "nbformat": 4,
 "nbformat_minor": 5
}
