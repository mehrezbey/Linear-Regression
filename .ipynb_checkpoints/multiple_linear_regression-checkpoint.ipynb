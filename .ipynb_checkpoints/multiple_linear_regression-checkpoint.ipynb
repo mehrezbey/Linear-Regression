{
 "cells": [
  {
   "cell_type": "markdown",
   "id": "019e1947-66fe-40fc-b370-d443b83fb5d9",
   "metadata": {},
   "source": [
    "# Goals\n",
    "- Measure students' performance based on their hours studied, previous scores, participation in extracurricular activities, sleep hours, and the number of sample question papers practiced."
   ]
  },
  {
   "cell_type": "code",
   "execution_count": 1,
   "id": "6b001558-ed73-4000-8857-1b0da7183270",
   "metadata": {},
   "outputs": [],
   "source": [
    "import math, copy\n",
    "import pandas as pd\n",
    "import numpy as np\n",
    "import matplotlib.pyplot as plt\n",
    "np.set_printoptions(precision=2)  # reduced display precision on numpy arrays"
   ]
  },
  {
   "cell_type": "markdown",
   "id": "bdf33e37-9ae3-49b2-8234-38a0dee22f4d",
   "metadata": {},
   "source": [
    "# Problem Statement\n",
    "\n",
    "We aim to provide insights into the relationship between the predictor variables and the performance index. We will  use this dataset to explore the impact of studying hours, previous scores, extracurricular activities, sleep hours, and sample question papers on student performance.\n",
    "\n",
    "### Variables:\n",
    "- Hours Studied: The total number of hours spent studying by each student.\n",
    "- Previous Scores: The scores obtained by students in previous tests.\n",
    "- Extracurricular Activities: Whether the student participates in extracurricular activities (Yes or No).\n",
    "- Sleep Hours: The average number of hours of sleep the student had per day.\n",
    "- Sample Question Papers Practiced: The number of sample question papers the student practiced.\n",
    "### Target Variable:\n",
    "- Performance Index: A measure of the overall performance of each student. The performance index represents the student's academic performance and has been rounded to the nearest integer. The index ranges from 10 to 100, with higher values indicating better performance.\n",
    "\n",
    "The training data is from [Kaggle](https://www.kaggle.com/datasets/nikhil7280/student-performance-multiple-linear-regression)."
   ]
  },
  {
   "cell_type": "code",
   "execution_count": 16,
   "id": "a53c5608-ffad-475b-91fb-a7066bc31be6",
   "metadata": {},
   "outputs": [],
   "source": [
    "# Read the CSV file\n",
    "f = pd.read_csv('data/train_multi.csv')"
   ]
  },
  {
   "cell_type": "code",
   "execution_count": 3,
   "id": "9064620d-fe10-45d3-b161-495359011b83",
   "metadata": {},
   "outputs": [
    {
     "name": "stdout",
     "output_type": "stream",
     "text": [
      "Index(['Hours Studied', 'Previous Scores', 'Sleep Hours',\n",
      "       'Sample Question Papers Practiced', 'Performance Index'],\n",
      "      dtype='object')\n"
     ]
    },
    {
     "data": {
      "text/plain": [
       "Hours Studied                       0\n",
       "Previous Scores                     0\n",
       "Sleep Hours                         0\n",
       "Sample Question Papers Practiced    0\n",
       "Performance Index                   0\n",
       "dtype: int64"
      ]
     },
     "execution_count": 3,
     "metadata": {},
     "output_type": "execute_result"
    }
   ],
   "source": [
    "print(f.columns)\n",
    "f.isnull().sum()"
   ]
  },
  {
   "cell_type": "code",
   "execution_count": 4,
   "id": "eaf5c659-1ae0-4ded-9b34-383005745759",
   "metadata": {},
   "outputs": [
    {
     "data": {
      "text/plain": [
       "0"
      ]
     },
     "execution_count": 4,
     "metadata": {},
     "output_type": "execute_result"
    }
   ],
   "source": [
    "f.duplicated().sum()"
   ]
  },
  {
   "cell_type": "code",
   "execution_count": 5,
   "id": "bbcf63d9-d330-4794-a369-28db4bf08d34",
   "metadata": {},
   "outputs": [],
   "source": [
    "# Separate the independent variables (features)\n",
    "X_train = np.array(f[['Hours Studied', 'Previous Scores', 'Sleep Hours', 'Sample Question Papers Practiced']])\n",
    "# Separate the dependent variable (target)\n",
    "y_train = np.array(f['Performance Index'])"
   ]
  },
  {
   "cell_type": "code",
   "execution_count": 6,
   "id": "d5cce643-2a33-4c9d-a248-fa7c9013078c",
   "metadata": {},
   "outputs": [
    {
     "name": "stdout",
     "output_type": "stream",
     "text": [
      "X Shape: (156, 4), X Type:<class 'numpy.ndarray'>)\n",
      "y Shape: (156,), y Type:<class 'numpy.ndarray'>)\n"
     ]
    }
   ],
   "source": [
    "# data is stored in numpy array/matrix\n",
    "print(f\"X Shape: {X_train.shape}, X Type:{type(X_train)})\")\n",
    "print(f\"y Shape: {y_train.shape}, y Type:{type(y_train)})\")"
   ]
  },
  {
   "cell_type": "code",
   "execution_count": 7,
   "id": "0881ad3e-aa01-495e-afcc-2e0b2448090b",
   "metadata": {},
   "outputs": [
    {
     "name": "stdout",
     "output_type": "stream",
     "text": [
      "w_init shape: (4,), b_init type: <class 'int'>\n"
     ]
    }
   ],
   "source": [
    "# initialize parameters\n",
    "b_init = 0\n",
    "w_init = np.array([ 0, 0, 0, 0])\n",
    "print(f\"w_init shape: {w_init.shape}, b_init type: {type(b_init)}\")"
   ]
  },
  {
   "cell_type": "markdown",
   "id": "df72a1f6-1377-47b3-86eb-0c41aaf1f038",
   "metadata": {},
   "source": [
    "#  Model Prediction With Multiple Variables\n",
    "The model's prediction with multiple variables is given by the linear model:\n",
    "$$ f_{\\mathbf{w},b}(\\mathbf{x}) =  w_0x_0 + w_1x_1 +... + w_{n-1}x_{n-1} + b \\tag{1}$$\n",
    "or in vector notation:\n",
    "$$ f_{\\mathbf{w},b}(\\mathbf{x}) = \\mathbf{w} \\cdot \\mathbf{x} + b  \\tag{2} $$ \n",
    "where $\\cdot$ is a vector `dot product`\n"
   ]
  },
  {
   "cell_type": "code",
   "execution_count": 8,
   "id": "f9065632-aa14-49f7-a2cc-09d0d8a1b20b",
   "metadata": {},
   "outputs": [],
   "source": [
    "def predict(x, w, b): \n",
    "    \"\"\"\n",
    "    single predict using linear regression\n",
    "    Args:\n",
    "      x (ndarray): Shape (n,) example with multiple features\n",
    "      w (ndarray): Shape (n,) model parameters   \n",
    "      b (scalar):             model parameter \n",
    "      \n",
    "    Returns:\n",
    "      p (scalar):  prediction\n",
    "    \"\"\"\n",
    "    p = np.dot(x, w) + b     \n",
    "    return p "
   ]
  },
  {
   "cell_type": "markdown",
   "id": "7691952a-ec85-458f-ac36-0621ced04060",
   "metadata": {},
   "source": [
    "# 4 Compute Cost With Multiple Variables\n",
    "The equation for the cost function with multiple variables $J(\\mathbf{w},b)$ is: \n",
    "$$J(\\mathbf{w},b) = \\frac{1}{2m} \\sum\\limits_{i = 0}^{m-1} (f_{\\mathbf{w},b}(\\mathbf{x}^{(i)}) - y^{(i)})^2 \\tag{3}$$\n",
    "where:\n",
    "$$ f_{\\mathbf{w},b}(\\mathbf{x}^{(i)}) = \\mathbf{w} \\cdot \\mathbf{x}^{(i)} + b  \\tag{4} $$"
   ]
  },
  {
   "cell_type": "code",
   "execution_count": 9,
   "id": "dce8e4fb-f0ee-4faf-9051-8805342a2f05",
   "metadata": {},
   "outputs": [],
   "source": [
    "def compute_cost(X, y, w, b):\n",
    "    \"\"\"\n",
    "    Computes the cost function for multiple linear regression\n",
    "    Args:\n",
    "        x (ndarray (m,n)) : features\n",
    "        y (ndarray (m,)) : targets\n",
    "        w (ndarray (n,)) : model parameters( weights )\n",
    "        b (scalar)       : model parameter( bias )\n",
    "    returns : \n",
    "        cost (float ) : the cost for the current model\n",
    "    \"\"\"\n",
    "    m = X.shape[0]\n",
    "    j_wb = 0\n",
    "    for i in range(m):\n",
    "        j_wb += ((np.dot(w,X[i])+b) - y[i])**2\n",
    "    j_wb/=2*m\n",
    "    return j_wb"
   ]
  },
  {
   "cell_type": "markdown",
   "id": "0175ac1c-6825-4ae4-87e8-d28bab3449f5",
   "metadata": {},
   "source": [
    "# Gradient Descent With Multiple Variables\n",
    "Gradient descent for multiple variables:\n",
    "\n",
    "$$\\begin{align*} \\text{repeat}&\\text{ until convergence:} \\; \\lbrace \\newline\\;\n",
    "& w_j = w_j -  \\alpha \\frac{\\partial J(\\mathbf{w},b)}{\\partial w_j} \\tag{5}  \\; & \\text{for j = 0..n-1}\\newline\n",
    "&b\\ \\ = b -  \\alpha \\frac{\\partial J(\\mathbf{w},b)}{\\partial b}  \\newline \\rbrace\n",
    "\\end{align*}$$\n",
    "\n",
    "where, n is the number of features, parameters $w_j$,  $b$, are updated simultaneously and where  \n",
    "\n",
    "$$\n",
    "\\begin{align}\n",
    "\\frac{\\partial J(\\mathbf{w},b)}{\\partial w_j}  &= \\frac{1}{m} \\sum\\limits_{i = 0}^{m-1} (f_{\\mathbf{w},b}(\\mathbf{x}^{(i)}) - y^{(i)})x_{j}^{(i)} \\tag{6}  \\\\\n",
    "\\frac{\\partial J(\\mathbf{w},b)}{\\partial b}  &= \\frac{1}{m} \\sum\\limits_{i = 0}^{m-1} (f_{\\mathbf{w},b}(\\mathbf{x}^{(i)}) - y^{(i)}) \\tag{7}\n",
    "\\end{align}\n",
    "$$\n",
    "* m is the number of training examples in the data set\n",
    "\n",
    "    \n",
    "*  $f_{\\mathbf{w},b}(\\mathbf{x}^{(i)})$ is the model's prediction, while $y^{(i)}$ is the target value\n"
   ]
  },
  {
   "cell_type": "markdown",
   "id": "70473402-f370-49c2-8488-263c898278f2",
   "metadata": {},
   "source": [
    "## Compute Gradient with Multiple Variables\n",
    "An implementation for calculating the equations (6) and (7) is below. There are many ways to implement this. In this version, there is an\n",
    "- outer loop over all m examples. \n",
    "    - $\\frac{\\partial J(\\mathbf{w},b)}{\\partial b}$ for the example can be computed directly and accumulated\n",
    "    - in a second loop over all n features:\n",
    "        - $\\frac{\\partial J(\\mathbf{w},b)}{\\partial w_j}$ is computed for each $w_j$.\n",
    "   "
   ]
  },
  {
   "cell_type": "code",
   "execution_count": 10,
   "id": "29b002d8-b696-470b-bb93-abd16d9e7307",
   "metadata": {},
   "outputs": [],
   "source": [
    "def compute_gradient(X, y, w, b): \n",
    "    \"\"\"\n",
    "    Computes the gradient for multiple linear regression \n",
    "    Args:\n",
    "      X (ndarray (m,n)): Data, m examples with n features\n",
    "      y (ndarray (m,)) : target values\n",
    "      w (ndarray (n,)) : model parameters  \n",
    "      b (scalar)       : model parameter\n",
    "      \n",
    "    Returns:\n",
    "      dj_dw (ndarray (n,)): the gradient of the cost according to w.\n",
    "      dj_db (scalar):       the gradient of the cost according to b.\n",
    "    \"\"\"\n",
    "    m = X.shape[0]\n",
    "    n = X.shape[1]\n",
    "    dj_dw = np.zeros((n,))\n",
    "    dj_db = 0\n",
    "    for i in range(m):\n",
    "        error = (np.dot(w,X[i]) + b) - y[i] \n",
    "        for j in range(n):\n",
    "            dj_dw[j] += np.clip(error * X[i][j], -1e10, 1e10)\n",
    "\n",
    "        dj_db += np.clip(error, -1e10, 1e10)\n",
    "    dj_dw /=m\n",
    "    dj_db /=m\n",
    "    return dj_dw,dj_db"
   ]
  },
  {
   "cell_type": "markdown",
   "id": "6b4b8b79-a8ba-4cc4-b520-177beafc4135",
   "metadata": {},
   "source": [
    "##  Gradient Descent With Multiple Variables\n",
    "The routine below implements equation (5) above."
   ]
  },
  {
   "cell_type": "code",
   "execution_count": 11,
   "id": "4c27e7e6-2b77-43e9-b62f-76898eac149f",
   "metadata": {},
   "outputs": [],
   "source": [
    "def gradient_descent(X, y, w_in, b_in, alpha, num_iters, cost_function, gradient_function):\n",
    "    \"\"\"\n",
    "    Performs gradient descent to fit w,b. Updates w,b by taking num_iters gradient steps with learning rate alpha\n",
    "    \n",
    "    Args:\n",
    "        X (ndarray (m,n))   : features\n",
    "        y (ndarray (m,))    : targets\n",
    "        w_in (ndarray (n,)) : initial model parameters  \n",
    "        b_in (scalar)       : initial model parameter\n",
    "        alpha (float)       : Learning rate ( between 0 and 1 )\n",
    "        num_iters (int)     : number of iterations to run gradient descent\n",
    "        cost_function       : function to call to produce cost\n",
    "        gradient_function   : function to call to produce gradient\n",
    "      \n",
    "    Returns:\n",
    "        w (ndarray (n,))   : Updated values of parameters \n",
    "        b (scalar)         : Updated value of parameter \n",
    "        history (List)     : History of cost values\n",
    "      \"\"\"\n",
    "    \n",
    "    # An array to store cost J and w's at each iteration \n",
    "    cost_history = []\n",
    "    w = copy.deepcopy(w_in)  #avoid modifying global w within function\n",
    "    b = b_in\n",
    "    for i in range(num_iters) :\n",
    "        dj_w, dj_b = gradient_function(X, y, w, b)\n",
    "        \n",
    "        # update the parameters\n",
    "        w = w - alpha*dj_w\n",
    "        b = b - alpha*dj_b\n",
    "    \n",
    "        # Save the cost and the new values of the parameters\n",
    "        if(i<100000):\n",
    "            cost_history.append(cost_function(X, y, w, b))\n",
    "            \n",
    "        if i% math.ceil(num_iters / 10) == 0:\n",
    "            print(f\"Iteration {i:4d}: Cost {cost_history[-1]:8.2f}\")\n",
    "    return w, b, cost_history\n",
    "        "
   ]
  },
  {
   "cell_type": "code",
   "execution_count": 12,
   "id": "95323ac0-6789-482c-8a52-bb2a5fe9a823",
   "metadata": {},
   "outputs": [
    {
     "name": "stdout",
     "output_type": "stream",
     "text": [
      "Iteration    0: Cost   698.11\n",
      "Iteration 10000: Cost    14.78\n",
      "Iteration 20000: Cost    12.95\n",
      "Iteration 30000: Cost    11.37\n",
      "Iteration 40000: Cost    10.02\n",
      "Iteration 50000: Cost     8.86\n",
      "Iteration 60000: Cost     7.86\n",
      "Iteration 70000: Cost     7.01\n",
      "Iteration 80000: Cost     6.27\n",
      "Iteration 90000: Cost     5.64\n",
      "b,w found by gradient descent: -18.40,[ 2.62  0.92 -0.43 -0.03] \n"
     ]
    }
   ],
   "source": [
    "# initialize parameters\n",
    "initial_w = np.zeros_like(w_init)\n",
    "initial_b = 0.\n",
    "# some gradient descent settings\n",
    "iterations = 100000\n",
    "alpha = 3.0e-4\n",
    "# run gradient descent \n",
    "w_final, b_final, cost_hist = gradient_descent(X_train, y_train, initial_w, initial_b,\n",
    "                                               alpha, iterations, compute_cost, compute_gradient, )\n",
    "print(f\"b,w found by gradient descent: {b_final:0.2f},{w_final} \")\n",
    "m,_ = X_train.shape\n",
    "# for i in range(m):\n",
    "#     print(f\"prediction: {np.dot(X_train[i], w_final) + b_final:0.2f}, target value: {y_train[i]}\")"
   ]
  },
  {
   "cell_type": "markdown",
   "id": "751845a4-040d-40c3-a146-ca97fc48a2dd",
   "metadata": {},
   "source": [
    "# Model Evaluation"
   ]
  },
  {
   "cell_type": "code",
   "execution_count": 13,
   "id": "05865e83-79bd-4c42-9bee-cb12484c4063",
   "metadata": {},
   "outputs": [
    {
     "name": "stdout",
     "output_type": "stream",
     "text": [
      "actual value = 91.0     - predicted value = 86.89897612341582\n",
      "actual value = 65.0     - predicted value = 65.54295898646865\n",
      "actual value = 45.0     - predicted value = 46.318863721052594\n",
      "actual value = 36.0     - predicted value = 40.21960881959204\n",
      "actual value = 66.0     - predicted value = 65.18937690096249\n",
      "actual value = 61.0     - predicted value = 56.98405800169718\n",
      "actual value = 63.0     - predicted value = 64.60961266574829\n",
      "actual value = 42.0     - predicted value = 41.97789530005559\n",
      "actual value = 61.0     - predicted value = 61.866906118292945\n",
      "actual value = 69.0     - predicted value = 72.02544873539765\n",
      "actual value = 84.0     - predicted value = 84.20491611274375\n",
      "actual value = 73.0     - predicted value = 72.43211424710427\n",
      "actual value = 27.0     - predicted value = 28.669980623788945\n",
      "actual value = 33.0     - predicted value = 38.68607607929097\n",
      "actual value = 68.0     - predicted value = 63.946125522472514\n",
      "actual value = 43.0     - predicted value = 51.09013345597518\n",
      "actual value = 67.0     - predicted value = 66.00992882204245\n",
      "actual value = 70.0     - predicted value = 70.42380950317919\n",
      "actual value = 30.0     - predicted value = 34.39460133423929\n",
      "actual value = 63.0     - predicted value = 60.522088517643624\n",
      "actual value = 71.0     - predicted value = 73.23304247222579\n",
      "actual value = 85.0     - predicted value = 81.5531654510605\n",
      "actual value = 73.0     - predicted value = 69.91896720803376\n",
      "actual value = 57.0     - predicted value = 59.87021051069779\n",
      "actual value = 35.0     - predicted value = 42.767214388847194\n",
      "actual value = 49.0     - predicted value = 53.72347161322094\n",
      "actual value = 66.0     - predicted value = 60.862444825783555\n",
      "actual value = 83.0     - predicted value = 79.52059498377895\n",
      "actual value = 74.0     - predicted value = 72.97721964059929\n",
      "actual value = 74.0     - predicted value = 75.4753315339091\n",
      "actual value = 39.0     - predicted value = 42.33871036327227\n",
      "actual value = 36.0     - predicted value = 36.44679549747933\n",
      "actual value = 58.0     - predicted value = 56.08816661098929\n",
      "actual value = 47.0     - predicted value = 49.46284874160874\n",
      "actual value = 60.0     - predicted value = 57.48367699906113\n",
      "actual value = 74.0     - predicted value = 71.84977114162135\n",
      "actual value = 42.0     - predicted value = 42.70010669687243\n",
      "actual value = 68.0     - predicted value = 67.77844468004437\n",
      "actual value = 32.0     - predicted value = 35.55712620449553\n",
      "actual value = 64.0     - predicted value = 65.36405569479614\n",
      "actual value = 45.0     - predicted value = 48.47442139480266\n",
      "actual value = 39.0     - predicted value = 42.06926871538681\n",
      "actual value = 58.0     - predicted value = 56.06293865840044\n",
      "actual value = 36.0     - predicted value = 38.15881399989377\n",
      "actual value = 71.0     - predicted value = 70.5361863732604\n",
      "actual value = 54.0     - predicted value = 57.38390806525244\n",
      "actual value = 17.0     - predicted value = 20.669992080262197\n",
      "actual value = 54.0     - predicted value = 57.164541363695804\n",
      "actual value = 58.0     - predicted value = 59.345944831128435\n",
      "actual value = 53.0     - predicted value = 55.49198747122287\n",
      "actual value = 27.0     - predicted value = 29.276970411477237\n",
      "actual value = 65.0     - predicted value = 65.8887389039246\n",
      "actual value = 75.0     - predicted value = 67.51761576866097\n",
      "actual value = 52.0     - predicted value = 50.364544700481574\n",
      "actual value = 78.0     - predicted value = 73.88872744745134\n",
      "actual value = 91.0     - predicted value = 86.23306177065189\n",
      "actual value = 33.0     - predicted value = 32.37468745398429\n",
      "actual value = 47.0     - predicted value = 48.6737468708417\n",
      "actual value = 78.0     - predicted value = 79.42425205940104\n",
      "actual value = 38.0     - predicted value = 44.05673374538624\n",
      "actual value = 70.0     - predicted value = 71.64121508798657\n",
      "actual value = 98.0     - predicted value = 90.61929936975537\n",
      "actual value = 87.0     - predicted value = 85.06092536395097\n",
      "actual value = 49.0     - predicted value = 50.798853294221445\n",
      "actual value = 41.0     - predicted value = 42.83332328087933\n",
      "actual value = 71.0     - predicted value = 73.24285432020503\n",
      "actual value = 54.0     - predicted value = 55.706929363406104\n",
      "actual value = 42.0     - predicted value = 47.44631222003052\n",
      "actual value = 91.0     - predicted value = 87.56146446674896\n",
      "actual value = 61.0     - predicted value = 60.35802006019726\n",
      "actual value = 74.0     - predicted value = 71.72194159622028\n",
      "actual value = 54.0     - predicted value = 53.99971662921399\n",
      "actual value = 81.0     - predicted value = 78.14512582122472\n",
      "actual value = 52.0     - predicted value = 57.69481192296466\n",
      "actual value = 65.0     - predicted value = 61.06138934297368\n",
      "actual value = 36.0     - predicted value = 38.94971315901147\n",
      "actual value = 61.0     - predicted value = 61.88252253443714\n",
      "actual value = 35.0     - predicted value = 36.86648647501762\n",
      "actual value = 15.0     - predicted value = 17.24433843439698\n",
      "actual value = 88.0     - predicted value = 85.05992656400834\n",
      "actual value = 45.0     - predicted value = 50.84011519251365\n",
      "actual value = 49.0     - predicted value = 47.8109342515269\n",
      "actual value = 33.0     - predicted value = 34.765228245435196\n",
      "actual value = 60.0     - predicted value = 56.85184021763288\n",
      "actual value = 71.0     - predicted value = 69.8372418998574\n",
      "actual value = 81.0     - predicted value = 79.61354846943628\n",
      "actual value = 67.0     - predicted value = 66.01573339020743\n",
      "actual value = 95.0     - predicted value = 94.29054646970872\n",
      "actual value = 58.0     - predicted value = 55.70593056346348\n",
      "actual value = 29.0     - predicted value = 30.693320513474745\n",
      "actual value = 21.0     - predicted value = 24.125679446938612\n",
      "actual value = 38.0     - predicted value = 40.42294157544537\n",
      "actual value = 60.0     - predicted value = 57.789574777016455\n",
      "actual value = 76.0     - predicted value = 77.50848327157414\n",
      "actual value = 69.0     - predicted value = 65.84105459637375\n",
      "actual value = 30.0     - predicted value = 30.352346364241107\n",
      "actual value = 57.0     - predicted value = 59.13158420932869\n",
      "actual value = 81.0     - predicted value = 81.70680421943392\n",
      "actual value = 36.0     - predicted value = 37.66119260241505\n",
      "actual value = 25.0     - predicted value = 25.194252031594914\n",
      "actual value = 27.0     - predicted value = 33.07463072732991\n",
      "actual value = 61.0     - predicted value = 54.89460921997923\n",
      "actual value = 34.0     - predicted value = 33.07363192738728\n",
      "actual value = 76.0     - predicted value = 72.19212504964653\n",
      "actual value = 57.0     - predicted value = 55.323113245554154\n",
      "actual value = 45.0     - predicted value = 46.17141047969305\n",
      "actual value = 76.0     - predicted value = 80.78568487613718\n",
      "actual value = 83.0     - predicted value = 77.71562299570718\n",
      "actual value = 50.0     - predicted value = 52.46079685030709\n",
      "actual value = 81.0     - predicted value = 78.15435639882047\n",
      "actual value = 66.0     - predicted value = 66.7199011613919\n",
      "actual value = 38.0     - predicted value = 39.948169571821346\n",
      "actual value = 56.0     - predicted value = 56.27588295069843\n",
      "actual value = 25.0     - predicted value = 29.42580341162833\n",
      "actual value = 56.0     - predicted value = 60.39025169242828\n",
      "actual value = 82.0     - predicted value = 80.57112394280287\n",
      "actual value = 23.0     - predicted value = 28.48226428407981\n",
      "actual value = 56.0     - predicted value = 52.9277666858809\n",
      "actual value = 46.0     - predicted value = 46.83231875270006\n",
      "actual value = 43.0     - predicted value = 45.81001414609288\n",
      "actual value = 30.0     - predicted value = 29.561447205123407\n",
      "actual value = 92.0     - predicted value = 86.18599530419473\n",
      "actual value = 45.0     - predicted value = 47.89465715958849\n",
      "actual value = 70.0     - predicted value = 72.07552368172645\n",
      "actual value = 36.0     - predicted value = 41.539579426501426\n",
      "actual value = 71.0     - predicted value = 70.69524875094989\n",
      "actual value = 49.0     - predicted value = 49.06499627793872\n",
      "actual value = 82.0     - predicted value = 80.78468607619455\n",
      "actual value = 71.0     - predicted value = 69.77635630560675\n",
      "actual value = 43.0     - predicted value = 45.46707896768422\n",
      "actual value = 77.0     - predicted value = 71.44769418011249\n",
      "actual value = 86.0     - predicted value = 84.62761557015371\n",
      "actual value = 34.0     - predicted value = 38.48074572355241\n",
      "actual value = 49.0     - predicted value = 49.21863504631216\n",
      "actual value = 69.0     - predicted value = 67.80989473035734\n",
      "actual value = 84.0     - predicted value = 85.79975197685462\n",
      "actual value = 41.0     - predicted value = 43.45454972592027\n",
      "actual value = 68.0     - predicted value = 66.8669368731923\n",
      "actual value = 44.0     - predicted value = 42.94970743077484\n",
      "actual value = 41.0     - predicted value = 42.8479408970809\n",
      "actual value = 58.0     - predicted value = 60.44997474591197\n",
      "actual value = 68.0     - predicted value = 68.36100500355187\n",
      "actual value = 94.0     - predicted value = 86.95485563790957\n",
      "actual value = 47.0     - predicted value = 49.47926364616099\n",
      "actual value = 40.0     - predicted value = 44.362631523341555\n",
      "actual value = 100.0     - predicted value = 91.9038126465375\n",
      "actual value = 23.0     - predicted value = 28.60387173175681\n",
      "actual value = 36.0     - predicted value = 39.26183303469087\n",
      "actual value = 47.0     - predicted value = 47.27205095575599\n",
      "actual value = 60.0     - predicted value = 59.119774761464214\n",
      "actual value = 83.0     - predicted value = 83.07646881382318\n",
      "actual value = 33.0     - predicted value = 31.763272856922576\n",
      "actual value = 36.0     - predicted value = 38.486550291717364\n",
      "actual value = 74.0     - predicted value = 68.67513455916031\n",
      "actual value = 42.0     - predicted value = 45.96807772383973\n",
      "actual value = 47.0     - predicted value = 47.91449807357152\n"
     ]
    }
   ],
   "source": [
    "y_hat = np.zeros((m,))\n",
    "for i in range(m):\n",
    "    y_hat[i] = np.dot(X_train[i],w_final) + b_final\n",
    "    print(f\"actual value = {y_train[i]}     - predicted value = {y_hat[i]}\")\n"
   ]
  },
  {
   "cell_type": "code",
   "execution_count": 14,
   "id": "3ee6f9f1-142d-48a1-a420-57f6548f1f1f",
   "metadata": {},
   "outputs": [
    {
     "data": {
      "image/png": "[encoded data removed]",
      "text/plain": [
       "<Figure size 640x480 with 1 Axes>"
      ]
     },
     "metadata": {},
     "output_type": "display_data"
    }
   ],
   "source": [
    "pts = np.arange(m)\n",
    "# Plot our model prediction\n",
    "plt.scatter(pts, y_hat, marker='.', c='b',label='Our Prediction')\n",
    "# Plot the data points\n",
    "plt.scatter(pts, y_train, marker='x', c='r',label='Actual Values')\n",
    "# Set the title\n",
    "plt.title(\"Model Evaluation\")\n",
    "# Set the y-axis label\n",
    "plt.ylabel('Score')\n",
    "# Set the x-axis label\n",
    "plt.xlabel('points')\n",
    "plt.legend()\n",
    "plt.show()"
   ]
  },
  {
   "cell_type": "code",
   "execution_count": 15,
   "id": "b17fdceb-de02-4412-b53b-2911ee655361",
   "metadata": {},
   "outputs": [
    {
     "data": {
      "image/png": "[encoded data removed]",
      "text/plain": [
       "<Figure size 1200x400 with 2 Axes>"
      ]
     },
     "metadata": {},
     "output_type": "display_data"
    }
   ],
   "source": [
    "# plot cost versus iteration  \n",
    "fig, (ax1, ax2) = plt.subplots(1, 2, constrained_layout=True, figsize=(12, 4))\n",
    "ax1.plot(cost_hist)\n",
    "ax2.plot(100 + np.arange(len(cost_hist[100:])), cost_hist[100:])\n",
    "ax1.set_title(\"Cost vs. iteration\");  ax2.set_title(\"Cost vs. iteration (tail)\")\n",
    "ax1.set_ylabel('Cost')             ;  ax2.set_ylabel('Cost') \n",
    "ax1.set_xlabel('iteration step')   ;  ax2.set_xlabel('iteration step') \n",
    "plt.show()"
   ]
  },
  {
   "cell_type": "code",
   "execution_count": null,
   "id": "d76ef3da-36ba-48ef-9108-3b87d238d60e",
   "metadata": {},
   "outputs": [],
   "source": []
  }
 ],
 "metadata": {
  "kernelspec": {
   "display_name": "Python 3 (ipykernel)",
   "language": "python",
   "name": "python3"
  },
  "language_info": {
   "codemirror_mode": {
    "name": "ipython",
    "version": 3
   },
   "file_extension": ".py",
   "mimetype": "text/x-python",
   "name": "python",
   "nbconvert_exporter": "python",
   "pygments_lexer": "ipython3",
   "version": "3.9.1"
  }
 },
 "nbformat": 4,
 "nbformat_minor": 5
}
